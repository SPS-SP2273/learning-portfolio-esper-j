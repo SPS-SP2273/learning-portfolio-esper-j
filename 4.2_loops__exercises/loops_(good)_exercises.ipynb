{
 "cells": [
  {
   "attachments": {},
   "cell_type": "markdown",
   "id": "123456",
   "metadata": {},
   "source": [
    "<div style=\"text-align:left;font-size:2em\"><span style=\"font-weight:bolder;font-size:1.25em\">SP2273 | Learning Portfolio</span><br><br><span style=\"font-weight:bold;color:darkred\">Loops (Good) Exercises</span></div>"
   ]
  },
  {
   "cell_type": "markdown",
   "id": "6a8f6218",
   "metadata": {},
   "source": [
    "# Exercise 1"
   ]
  },
  {
   "cell_type": "code",
   "execution_count": 4,
   "id": "83b628e9",
   "metadata": {},
   "outputs": [
    {
     "name": "stdout",
     "output_type": "stream",
     "text": [
      "[1, 9, 25, 49, 81]\n"
     ]
    }
   ],
   "source": [
    "odd_squares = []\n",
    "for number in range(0,10):\n",
    "    if number %2 == 0: \n",
    "        continue\n",
    "    odd_squares.append(number**2)\n",
    "\n",
    "print(odd_squares)"
   ]
  },
  {
   "cell_type": "markdown",
   "id": "cc246686",
   "metadata": {},
   "source": [
    "# Exercise 2"
   ]
  },
  {
   "cell_type": "code",
   "execution_count": 16,
   "id": "f53f2183",
   "metadata": {},
   "outputs": [
    {
     "data": {
      "text/plain": [
       "[1, 9, 25, 49, 81]"
      ]
     },
     "execution_count": 16,
     "metadata": {},
     "output_type": "execute_result"
    }
   ],
   "source": [
    "[numberz**2 for numberz in range (10) if numberz %2 == 1 ]"
   ]
  },
  {
   "cell_type": "markdown",
   "id": "7f6da1ec",
   "metadata": {},
   "source": [
    "# Exercise 3"
   ]
  },
  {
   "cell_type": "code",
   "execution_count": 1,
   "id": "7a9a42a7",
   "metadata": {},
   "outputs": [
    {
     "name": "stdout",
     "output_type": "stream",
     "text": [
      "1.98 μs ± 287 ns per loop (mean ± std. dev. of 7 runs, 1,000,000 loops each)\n"
     ]
    }
   ],
   "source": [
    "%%timeit\n",
    "odd_squares = []\n",
    "for number in range(0,10):\n",
    "    if number %2 == 0: \n",
    "        continue\n",
    "    odd_squares.append(number**2)"
   ]
  },
  {
   "cell_type": "code",
   "execution_count": 2,
   "id": "d58dca9d",
   "metadata": {},
   "outputs": [],
   "source": [
    "#note = %%timeit times the whole cell, so even the \n",
    "#print() function will affect it immensely "
   ]
  },
  {
   "cell_type": "code",
   "execution_count": 6,
   "id": "23590f0e",
   "metadata": {},
   "outputs": [
    {
     "name": "stdout",
     "output_type": "stream",
     "text": [
      "2.34 μs ± 460 ns per loop (mean ± std. dev. of 7 runs, 1,000,000 loops each)\n"
     ]
    }
   ],
   "source": [
    "%%timeit\n",
    "[numberz**2 for numberz in range (10) if number %2 == 1]"
   ]
  },
  {
   "cell_type": "markdown",
   "id": "34e9dc06",
   "metadata": {},
   "source": [
    "The one using loops is faster! (edited)"
   ]
  },
  {
   "cell_type": "markdown",
   "id": "a721dcba",
   "metadata": {},
   "source": [
    "# Exercise 4"
   ]
  },
  {
   "cell_type": "code",
   "execution_count": 7,
   "id": "8070e7cf",
   "metadata": {},
   "outputs": [
    {
     "name": "stdout",
     "output_type": "stream",
     "text": [
      "100\n",
      "95.0\n",
      "90.25\n",
      "85.7375\n",
      "81.45062499999999\n",
      "77.37809374999999\n",
      "73.50918906249998\n",
      "69.83372960937498\n",
      "66.34204312890623\n",
      "63.02494097246091\n",
      "59.87369392383786\n",
      "56.880009227645964\n",
      "54.03600876626366\n",
      "51.33420832795048\n"
     ]
    }
   ],
   "source": [
    "radioactive = 100\n",
    "\n",
    "while True: \n",
    "    print (radioactive)\n",
    "    radioactive *= 0.95\n",
    "    if radioactive <= 50: break \n"
   ]
  },
  {
   "cell_type": "markdown",
   "id": "24926d5a",
   "metadata": {},
   "source": [
    "13 years to reach 51.3, 14 years to reach less than half its original amount "
   ]
  },
  {
   "cell_type": "markdown",
   "id": "1470f93d",
   "metadata": {},
   "source": [
    "# Exercise 5"
   ]
  },
  {
   "cell_type": "code",
   "execution_count": 7,
   "id": "cb76635a",
   "metadata": {},
   "outputs": [],
   "source": [
    "import numpy as np"
   ]
  },
  {
   "cell_type": "code",
   "execution_count": 8,
   "id": "13dc6e5a",
   "metadata": {},
   "outputs": [],
   "source": [
    "co2_data = [\n",
    "    (2000, 369.55), (2001, 371.14), (2002, 373.28), \n",
    "    (2003, 375.80), (2004, 377.52), (2005, 379.80), \n",
    "    (2006, 381.90), (2007, 383.79), (2008, 385.60), \n",
    "    (2009, 387.43), (2010, 389.90), (2011, 391.65), \n",
    "    (2012, 393.85), (2013, 396.52), (2014, 398.65),\n",
    "    (2015, 400.83), (2016, 404.24), (2017, 406.55), \n",
    "    (2018, 408.52), (2019, 411.44), (2020, 414.24)\n",
    "]\n"
   ]
  },
  {
   "cell_type": "code",
   "execution_count": 9,
   "id": "ec4368a8",
   "metadata": {},
   "outputs": [
    {
     "name": "stdout",
     "output_type": "stream",
     "text": [
      "2000, 1630.45\n",
      "2001, 1629.8600000000001\n",
      "2002, 1628.72\n",
      "2003, 1627.2\n",
      "2004, 1626.48\n",
      "2005, 1625.2\n",
      "2006, 1624.1\n",
      "2007, 1623.21\n",
      "2008, 1622.4\n",
      "2009, 1621.57\n",
      "2010, 1620.1\n",
      "2011, 1619.35\n",
      "2012, 1618.15\n",
      "2013, 1616.48\n",
      "2014, 1615.35\n",
      "2015, 1614.17\n",
      "2016, 1611.76\n",
      "2017, 1610.45\n",
      "2018, 1609.48\n",
      "2019, 1607.56\n",
      "2020, 1605.76\n"
     ]
    }
   ],
   "source": [
    "for year, CO2_level in co2_data: \n",
    "    if (CO2_level) > 3: \n",
    "        print(f'{year}, {year - CO2_level}')"
   ]
  },
  {
   "cell_type": "code",
   "execution_count": 10,
   "id": "14a2f65f",
   "metadata": {},
   "outputs": [
    {
     "data": {
      "text/plain": [
       "[(0, (2000, 369.55)),\n",
       " (1, (2001, 371.14)),\n",
       " (2, (2002, 373.28)),\n",
       " (3, (2003, 375.8)),\n",
       " (4, (2004, 377.52)),\n",
       " (5, (2005, 379.8)),\n",
       " (6, (2006, 381.9)),\n",
       " (7, (2007, 383.79)),\n",
       " (8, (2008, 385.6)),\n",
       " (9, (2009, 387.43)),\n",
       " (10, (2010, 389.9)),\n",
       " (11, (2011, 391.65)),\n",
       " (12, (2012, 393.85)),\n",
       " (13, (2013, 396.52)),\n",
       " (14, (2014, 398.65)),\n",
       " (15, (2015, 400.83)),\n",
       " (16, (2016, 404.24)),\n",
       " (17, (2017, 406.55)),\n",
       " (18, (2018, 408.52)),\n",
       " (19, (2019, 411.44)),\n",
       " (20, (2020, 414.24))]"
      ]
     },
     "execution_count": 10,
     "metadata": {},
     "output_type": "execute_result"
    }
   ],
   "source": [
    "list(enumerate(co2_data))"
   ]
  },
  {
   "cell_type": "code",
   "execution_count": null,
   "id": "4bffffa0",
   "metadata": {},
   "outputs": [
    {
     "name": "stdout",
     "output_type": "stream",
     "text": [
      "2001 371.14\n"
     ]
    }
   ],
   "source": [
    "for index, data in enumerate(co2_data): #consider using \n",
    "    # for index in range(len(co2_data)-1)\n",
    "    year, CO2_level = data\n",
    "    next_year, next_co2_level = co2_data[index+1]\n",
    "    print(next_year,next_co2_level)\n",
    "    # print(year, CO2_level)\n",
    "    #print(co2_data[index+1]) # to get the next element \n",
    "    # if index == len(co2_data): \n",
    "    #     break\n",
    "    # if n[1] - data[1] >= 3: \n",
    "    #     print(data[0])\n",
    "    break\n",
    "    \n",
    "    \n",
    "    \n",
    "\n"
   ]
  },
  {
   "cell_type": "code",
   "execution_count": 14,
   "id": "39dee675",
   "metadata": {},
   "outputs": [
    {
     "name": "stdout",
     "output_type": "stream",
     "text": [
      " 2015 and 2016, 3.410000000000025\n"
     ]
    }
   ],
   "source": [
    "for index, data in enumerate(co2_data): \n",
    "    year, CO2_level = data\n",
    "    next_year, next_co2_level = co2_data[index+1]\n",
    "    #print(next_year,next_co2_level)\n",
    "    if index == 19: \n",
    "         break\n",
    "    if next_co2_level - CO2_level >= 3: \n",
    "        print(f' {year} and {next_year}, {next_co2_level - CO2_level}')\n"
   ]
  }
 ],
 "metadata": {
  "kernelspec": {
   "display_name": "base",
   "language": "python",
   "name": "python3"
  },
  "language_info": {
   "codemirror_mode": {
    "name": "ipython",
    "version": 3
   },
   "file_extension": ".py",
   "mimetype": "text/x-python",
   "name": "python",
   "nbconvert_exporter": "python",
   "pygments_lexer": "ipython3",
   "version": "3.13.5"
  },
  "toc": {
   "base_numbering": 1,
   "nav_menu": {},
   "number_sections": true,
   "sideBar": true,
   "skip_h1_title": false,
   "title_cell": "Table of Contents",
   "title_sidebar": "Contents",
   "toc_cell": false,
   "toc_position": {},
   "toc_section_display": true,
   "toc_window_display": false
  }
 },
 "nbformat": 4,
 "nbformat_minor": 5
}
