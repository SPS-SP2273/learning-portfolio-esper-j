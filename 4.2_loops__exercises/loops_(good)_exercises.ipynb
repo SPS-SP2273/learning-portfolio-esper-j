{
 "cells": [
  {
   "attachments": {},
   "cell_type": "markdown",
   "id": "123456",
   "metadata": {},
   "source": [
    "<div style=\"text-align:left;font-size:2em\"><span style=\"font-weight:bolder;font-size:1.25em\">SP2273 | Learning Portfolio</span><br><br><span style=\"font-weight:bold;color:darkred\">Loops (Good) Exercises</span></div>"
   ]
  },
  {
   "cell_type": "markdown",
   "id": "6a8f6218",
   "metadata": {},
   "source": [
    "# Exercise 1"
   ]
  },
  {
   "cell_type": "code",
   "execution_count": 17,
   "id": "83b628e9",
   "metadata": {},
   "outputs": [
    {
     "name": "stdout",
     "output_type": "stream",
     "text": [
      "1\n",
      "9\n",
      "25\n",
      "49\n",
      "81\n"
     ]
    }
   ],
   "source": [
    "for number in range(0,10):\n",
    "    if number %2 == 0: \n",
    "        continue\n",
    "\n",
    "    print(number**2)"
   ]
  },
  {
   "cell_type": "markdown",
   "id": "cc246686",
   "metadata": {},
   "source": [
    "# Exercise 2"
   ]
  },
  {
   "cell_type": "code",
   "execution_count": 16,
   "id": "f53f2183",
   "metadata": {},
   "outputs": [
    {
     "data": {
      "text/plain": [
       "[1, 9, 25, 49, 81]"
      ]
     },
     "execution_count": 16,
     "metadata": {},
     "output_type": "execute_result"
    }
   ],
   "source": [
    "[numberz**2 for numberz in range (10) if numberz %2 == 1 ]"
   ]
  },
  {
   "cell_type": "markdown",
   "id": "7f6da1ec",
   "metadata": {},
   "source": [
    "# Exercise 3"
   ]
  },
  {
   "cell_type": "code",
   "execution_count": 20,
   "id": "7a9a42a7",
   "metadata": {},
   "outputs": [
    {
     "name": "stdout",
     "output_type": "stream",
     "text": [
      "CPU times: total: 0 ns\n",
      "Wall time: 7.39 μs\n",
      "1\n",
      "9\n",
      "25\n",
      "49\n",
      "81\n"
     ]
    }
   ],
   "source": [
    "%time\n",
    "for number in range(0,10):\n",
    "    if number %2 == 0: \n",
    "        continue\n",
    "\n",
    "    print(number**2)"
   ]
  },
  {
   "cell_type": "code",
   "execution_count": 21,
   "id": "23590f0e",
   "metadata": {},
   "outputs": [
    {
     "name": "stdout",
     "output_type": "stream",
     "text": [
      "CPU times: total: 0 ns\n",
      "Wall time: 5.25 μs\n"
     ]
    },
    {
     "data": {
      "text/plain": [
       "[0, 1, 4, 9, 16, 25, 36, 49, 64, 81]"
      ]
     },
     "execution_count": 21,
     "metadata": {},
     "output_type": "execute_result"
    }
   ],
   "source": [
    "%time\n",
    "[numberz**2 for numberz in range (10) if number %2 == 1]"
   ]
  },
  {
   "cell_type": "markdown",
   "id": "34e9dc06",
   "metadata": {},
   "source": [
    "The one using list comprehension is faster. "
   ]
  },
  {
   "cell_type": "markdown",
   "id": "a721dcba",
   "metadata": {},
   "source": [
    "# Exercise 4"
   ]
  },
  {
   "cell_type": "code",
   "execution_count": 15,
   "id": "8070e7cf",
   "metadata": {},
   "outputs": [
    {
     "name": "stdout",
     "output_type": "stream",
     "text": [
      "100\n",
      "95.0\n",
      "90.25\n",
      "85.7375\n",
      "81.45062499999999\n",
      "77.37809374999999\n",
      "73.50918906249998\n",
      "69.83372960937498\n",
      "66.34204312890623\n",
      "63.02494097246091\n",
      "59.87369392383786\n",
      "56.880009227645964\n",
      "54.03600876626366\n",
      "51.33420832795048\n"
     ]
    }
   ],
   "source": [
    "radioactive = 100\n",
    "\n",
    "while True: \n",
    "    print (radioactive)\n",
    "    radioactive *= 0.95\n",
    "    if radioactive <= 50: break \n"
   ]
  },
  {
   "cell_type": "markdown",
   "id": "1470f93d",
   "metadata": {},
   "source": [
    "# Exercise 5"
   ]
  },
  {
   "cell_type": "code",
   "execution_count": 23,
   "id": "cb76635a",
   "metadata": {},
   "outputs": [],
   "source": [
    "import numpy as np"
   ]
  },
  {
   "cell_type": "code",
   "execution_count": 39,
   "id": "13dc6e5a",
   "metadata": {},
   "outputs": [],
   "source": [
    "co2_data = [\n",
    "    (2000, 369.55), (2001, 371.14), (2002, 373.28), \n",
    "    (2003, 375.80), (2004, 377.52), (2005, 379.80), \n",
    "    (2006, 381.90), (2007, 383.79), (2008, 385.60), \n",
    "    (2009, 387.43), (2010, 389.90), (2011, 391.65), \n",
    "    (2012, 393.85), (2013, 396.52), (2014, 398.65),\n",
    "    (2015, 400.83), (2016, 404.24), (2017, 406.55), \n",
    "    (2018, 408.52), (2019, 411.44), (2020, 414.24)\n",
    "]\n"
   ]
  },
  {
   "cell_type": "code",
   "execution_count": null,
   "id": "ec4368a8",
   "metadata": {},
   "outputs": [
    {
     "name": "stdout",
     "output_type": "stream",
     "text": [
      "2000.0, 1630.45\n",
      "2001.0, 1629.8600000000001\n",
      "2002.0, 1628.72\n",
      "2003.0, 1627.2\n",
      "2004.0, 1626.48\n",
      "2005.0, 1625.2\n",
      "2006.0, 1624.1\n",
      "2007.0, 1623.21\n",
      "2008.0, 1622.4\n",
      "2009.0, 1621.57\n",
      "2010.0, 1620.1\n",
      "2011.0, 1619.35\n",
      "2012.0, 1618.15\n",
      "2013.0, 1616.48\n",
      "2014.0, 1615.35\n",
      "2015.0, 1614.17\n",
      "2016.0, 1611.76\n",
      "2017.0, 1610.45\n",
      "2018.0, 1609.48\n",
      "2019.0, 1607.56\n",
      "2020.0, 1605.76\n"
     ]
    }
   ],
   "source": [
    "for year, CO2_level in co2_data: \n",
    "    if (CO2_level) > 3: \n",
    "        print(f'{year}, {year - CO2_level}')"
   ]
  },
  {
   "cell_type": "code",
   "execution_count": 26,
   "id": "14a2f65f",
   "metadata": {},
   "outputs": [
    {
     "data": {
      "text/plain": [
       "[(0, array([2000.  ,  369.55])),\n",
       " (1, array([2001.  ,  371.14])),\n",
       " (2, array([2002.  ,  373.28])),\n",
       " (3, array([2003. ,  375.8])),\n",
       " (4, array([2004.  ,  377.52])),\n",
       " (5, array([2005. ,  379.8])),\n",
       " (6, array([2006. ,  381.9])),\n",
       " (7, array([2007.  ,  383.79])),\n",
       " (8, array([2008. ,  385.6])),\n",
       " (9, array([2009.  ,  387.43])),\n",
       " (10, array([2010. ,  389.9])),\n",
       " (11, array([2011.  ,  391.65])),\n",
       " (12, array([2012.  ,  393.85])),\n",
       " (13, array([2013.  ,  396.52])),\n",
       " (14, array([2014.  ,  398.65])),\n",
       " (15, array([2015.  ,  400.83])),\n",
       " (16, array([2016.  ,  404.24])),\n",
       " (17, array([2017.  ,  406.55])),\n",
       " (18, array([2018.  ,  408.52])),\n",
       " (19, array([2019.  ,  411.44])),\n",
       " (20, array([2020.  ,  414.24]))]"
      ]
     },
     "execution_count": 26,
     "metadata": {},
     "output_type": "execute_result"
    }
   ],
   "source": [
    "list(enumerate(co2_data))"
   ]
  },
  {
   "cell_type": "code",
   "execution_count": 47,
   "id": "4bffffa0",
   "metadata": {},
   "outputs": [
    {
     "name": "stdout",
     "output_type": "stream",
     "text": [
      "2001 371.14\n"
     ]
    }
   ],
   "source": [
    "for index, data in enumerate(co2_data): \n",
    "    year, CO2_level = data\n",
    "    next_year, next_co2_level = co2_data[index+1]\n",
    "    print(next_year,next_co2_level)\n",
    "    # print(year, CO2_level)\n",
    "    #print(co2_data[index+1]) # to get the next element \n",
    "    # if index == len(co2_data): \n",
    "    #     break\n",
    "    # if n[1] - data[1] >= 3: \n",
    "    #     print(data[0])\n",
    "    break\n",
    "    \n",
    "    \n",
    "    \n",
    "\n"
   ]
  },
  {
   "cell_type": "code",
   "execution_count": 57,
   "id": "39dee675",
   "metadata": {},
   "outputs": [
    {
     "name": "stdout",
     "output_type": "stream",
     "text": [
      "2015 3.410000000000025\n"
     ]
    }
   ],
   "source": [
    "for index, data in enumerate(co2_data): \n",
    "    year, CO2_level = data\n",
    "    next_year, next_co2_level = co2_data[index+1]\n",
    "    #print(next_year,next_co2_level)\n",
    "    if index == 19: \n",
    "         break\n",
    "    if next_co2_level - CO2_level >= 3: \n",
    "        print(year, next_co2_level - CO2_level)\n"
   ]
  }
 ],
 "metadata": {
  "kernelspec": {
   "display_name": "base",
   "language": "python",
   "name": "python3"
  },
  "language_info": {
   "codemirror_mode": {
    "name": "ipython",
    "version": 3
   },
   "file_extension": ".py",
   "mimetype": "text/x-python",
   "name": "python",
   "nbconvert_exporter": "python",
   "pygments_lexer": "ipython3",
   "version": "3.13.5"
  },
  "toc": {
   "base_numbering": 1,
   "nav_menu": {},
   "number_sections": true,
   "sideBar": true,
   "skip_h1_title": false,
   "title_cell": "Table of Contents",
   "title_sidebar": "Contents",
   "toc_cell": false,
   "toc_position": {},
   "toc_section_display": true,
   "toc_window_display": false
  }
 },
 "nbformat": 4,
 "nbformat_minor": 5
}
