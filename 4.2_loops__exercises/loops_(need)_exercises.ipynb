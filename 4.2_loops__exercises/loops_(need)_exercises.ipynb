{
 "cells": [
  {
   "attachments": {},
   "cell_type": "markdown",
   "id": "123456",
   "metadata": {},
   "source": [
    "<div style=\"text-align:left;font-size:2em\"><span style=\"font-weight:bolder;font-size:1.25em\">SP2273 | Learning Portfolio</span><br><br><span style=\"font-weight:bold;color:darkred\">Loops (Need) Exercises</span></div>"
   ]
  },
  {
   "cell_type": "code",
   "execution_count": 1,
   "id": "4222dac7",
   "metadata": {},
   "outputs": [],
   "source": [
    "import numpy as np\n",
    "temperatures_celsius = [\n",
    "    0, 5, 10, 15, 20, 25,\n",
    "    30, 35, 40, 45, 50]\n",
    "\n",
    "temperatures_celsius_array= np.array(temperatures_celsius)\n",
    "\n",
    "temp_farenheit =(temperatures_celsius_array*1.8)+32"
   ]
  },
  {
   "cell_type": "code",
   "execution_count": 2,
   "id": "141099c9",
   "metadata": {},
   "outputs": [
    {
     "data": {
      "text/plain": [
       "array([ 32.,  41.,  50.,  59.,  68.,  77.,  86.,  95., 104., 113., 122.])"
      ]
     },
     "execution_count": 2,
     "metadata": {},
     "output_type": "execute_result"
    }
   ],
   "source": [
    "temp_farenheit"
   ]
  },
  {
   "cell_type": "code",
   "execution_count": 3,
   "id": "bb71e775",
   "metadata": {},
   "outputs": [
    {
     "name": "stdout",
     "output_type": "stream",
     "text": [
      "0, 32.0\n",
      "5, 41.0\n",
      "10, 50.0\n",
      "15, 59.0\n",
      "20, 68.0\n",
      "25, 77.0\n",
      "30, 86.0\n",
      "35, 95.0\n",
      "40, 104.0\n",
      "45, 113.0\n",
      "50, 122.0\n"
     ]
    }
   ],
   "source": [
    "for index, celsius in enumerate(temperatures_celsius_array):\n",
    "    temp_farenheit_array = temp_farenheit[index]\n",
    "    print(f'{celsius}, {temp_farenheit_array}')"
   ]
  },
  {
   "cell_type": "code",
   "execution_count": 4,
   "id": "01a1c395",
   "metadata": {},
   "outputs": [
    {
     "name": "stdout",
     "output_type": "stream",
     "text": [
      "A1 A2 A3 \n",
      "\n",
      "B1 B2 B3 \n",
      "\n",
      "C1 C2 C3 \n",
      "\n"
     ]
    }
   ],
   "source": [
    "for letter in ['A', 'B', 'C']:\n",
    "    for number in [1, 2, 3]:\n",
    "        print(f'{letter}{number}',end= ' '  )\n",
    "    print('\\n')"
   ]
  },
  {
   "cell_type": "code",
   "execution_count": 5,
   "id": "742b65a5",
   "metadata": {},
   "outputs": [
    {
     "name": "stdout",
     "output_type": "stream",
     "text": [
      "1: 1 2 3 4 5 \n",
      "\n",
      "2: 2 4 6 8 10 \n",
      "\n",
      "3: 3 6 9 12 15 \n",
      "\n",
      "4: 4 8 12 16 20 \n",
      "\n",
      "5: 5 10 15 20 25 \n",
      "\n"
     ]
    }
   ],
   "source": [
    "for multiply in [1, 2, 3, 4, 5]:\n",
    "    print(f'{multiply}:', end= ' ')\n",
    "    for multiply_2 in [1, 2, 3, 4, 5]:\n",
    "        print(f'{multiply*multiply_2:^}', end= ' ')\n",
    "    print('\\n')"
   ]
  },
  {
   "cell_type": "markdown",
   "id": "1d54b62a",
   "metadata": {},
   "source": [
    "# Exercise 3"
   ]
  },
  {
   "cell_type": "code",
   "execution_count": 6,
   "id": "8e5dfa51",
   "metadata": {},
   "outputs": [],
   "source": [
    "import numpy as np"
   ]
  },
  {
   "cell_type": "code",
   "execution_count": 7,
   "id": "ea31f757",
   "metadata": {},
   "outputs": [
    {
     "data": {
      "text/plain": [
       "array([0.46697105])"
      ]
     },
     "execution_count": 7,
     "metadata": {},
     "output_type": "execute_result"
    }
   ],
   "source": [
    "np.random.rand(1) "
   ]
  },
  {
   "cell_type": "code",
   "execution_count": 8,
   "id": "2ff69fd6",
   "metadata": {},
   "outputs": [
    {
     "name": "stdout",
     "output_type": "stream",
     "text": [
      "Experiment 1 : No of Heads = 3\n",
      "Experiment 2 : No of Heads = 4\n",
      "Experiment 3 : No of Heads = 3\n",
      "Experiment 4 : No of Heads = 4\n",
      "Experiment 5 : No of Heads = 7\n",
      "Experiment 6 : No of Heads = 7\n",
      "Experiment 7 : No of Heads = 2\n",
      "Experiment 8 : No of Heads = 5\n",
      "Experiment 9 : No of Heads = 6\n",
      "Experiment 10 : No of Heads = 6\n"
     ]
    }
   ],
   "source": [
    "for experiment in [1, 2, 3, 4, 5, 6, 7, 8, 9, 10]:\n",
    "    coin_toss = np.random.rand(10) >= 0.5\n",
    "    print(f'Experiment', experiment,':', 'No of Heads =', sum(coin_toss), end= '\\n')"
   ]
  }
 ],
 "metadata": {
  "kernelspec": {
   "display_name": "base",
   "language": "python",
   "name": "python3"
  },
  "language_info": {
   "codemirror_mode": {
    "name": "ipython",
    "version": 3
   },
   "file_extension": ".py",
   "mimetype": "text/x-python",
   "name": "python",
   "nbconvert_exporter": "python",
   "pygments_lexer": "ipython3",
   "version": "3.13.5"
  },
  "toc": {
   "base_numbering": 1,
   "nav_menu": {},
   "number_sections": true,
   "sideBar": true,
   "skip_h1_title": false,
   "title_cell": "Table of Contents",
   "title_sidebar": "Contents",
   "toc_cell": false,
   "toc_position": {},
   "toc_section_display": true,
   "toc_window_display": false
  }
 },
 "nbformat": 4,
 "nbformat_minor": 5
}
