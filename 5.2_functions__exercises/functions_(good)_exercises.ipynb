{
 "cells": [
  {
   "attachments": {},
   "cell_type": "markdown",
   "id": "123456",
   "metadata": {},
   "source": [
    "<div style=\"text-align:left;font-size:2em\"><span style=\"font-weight:bolder;font-size:1.25em\">SP2273 | Learning Portfolio</span><br><br><span style=\"font-weight:bold;color:darkred\">Functions (Good) Exercises</span></div>"
   ]
  },
  {
   "cell_type": "markdown",
   "id": "8661f71b",
   "metadata": {},
   "source": [
    "# Exercise 1"
   ]
  },
  {
   "cell_type": "code",
   "execution_count": 29,
   "id": "84f38d44",
   "metadata": {},
   "outputs": [],
   "source": [
    "def convert_celsius(celsius, target_scale):\n",
    "    if target_scale == 'Farenheit':\n",
    "        print(f'{(celsius * (9/5)) + 32} Farenheit')\n",
    "    elif target_scale == 'Kelvin': \n",
    "        print(f'{celsius + 273.15} Kelvin')\n",
    "    else: \n",
    "        print(f'{(celsius * (9/5)) + 32} Farenheit')\n",
    "\n"
   ]
  },
  {
   "cell_type": "code",
   "execution_count": 30,
   "id": "c2310a5b",
   "metadata": {},
   "outputs": [
    {
     "name": "stdout",
     "output_type": "stream",
     "text": [
      "104.0 Farenheit\n"
     ]
    }
   ],
   "source": [
    "convert_celsius(40, 'Farenheit')"
   ]
  },
  {
   "cell_type": "code",
   "execution_count": 31,
   "id": "45fe5a09",
   "metadata": {},
   "outputs": [
    {
     "name": "stdout",
     "output_type": "stream",
     "text": [
      "104.0 Farenheit\n"
     ]
    }
   ],
   "source": [
    "convert_celsius(40, 'dkjf')"
   ]
  },
  {
   "cell_type": "code",
   "execution_count": 32,
   "id": "515624be",
   "metadata": {},
   "outputs": [
    {
     "name": "stdout",
     "output_type": "stream",
     "text": [
      "308.15 Kelvin\n"
     ]
    }
   ],
   "source": [
    "convert_celsius(35, 'Kelvin')"
   ]
  },
  {
   "cell_type": "markdown",
   "id": "051d238a",
   "metadata": {},
   "source": [
    "# Exercise 2"
   ]
  },
  {
   "cell_type": "code",
   "execution_count": 47,
   "id": "000a0d9d",
   "metadata": {},
   "outputs": [],
   "source": [
    "def convert_farenheit(farenheit, target_scale_1):\n",
    "    if target_scale_1 == 'Celsius':\n",
    "        print(f'{(farenheit - 32)*(5/9)} Celsius')\n",
    "    elif target_scale_1 == 'Kelvin': \n",
    "        print(f'{((farenheit - 32) * (5/9)) + 273.15} Kelvin')\n",
    "    else: \n",
    "        print(f'{(farenheit - 32)*(5/9)} Celsius')"
   ]
  },
  {
   "cell_type": "code",
   "execution_count": 48,
   "id": "b3e8ccb5",
   "metadata": {},
   "outputs": [
    {
     "name": "stdout",
     "output_type": "stream",
     "text": [
      "37.77777777777778 Celsius\n"
     ]
    }
   ],
   "source": [
    "convert_farenheit(100, 'Celsius')"
   ]
  },
  {
   "cell_type": "markdown",
   "id": "9330f6ab",
   "metadata": {},
   "source": [
    "# Exercise 3"
   ]
  },
  {
   "cell_type": "code",
   "execution_count": 49,
   "id": "6e66216b",
   "metadata": {},
   "outputs": [],
   "source": [
    "def convert_temperature(temperature, source_scale, target_scale_2):\n",
    "    if source_scale == 'Celsius':\n",
    "        if target_scale_2 == 'Farenheit':\n",
    "            print(f'{(temperature * (9/5)) + 32} Farenheit')\n",
    "        elif target_scale_2 == 'Kelvin': \n",
    "            print(f'{temperature + 273.15} Kelvin')\n",
    "    elif source_scale == 'Farenheit': \n",
    "        if target_scale_2 == 'Celsius':\n",
    "            print(f'{(temperature - 32)*(5/9)} Celsius')\n",
    "        elif target_scale_2 == 'Kelvin': \n",
    "            print(f'{((temperature - 32) * (5/9)) + 273.15} Kelvin') \n",
    "    elif source_scale == 'Kelvin':\n",
    "        if target_scale_2 == 'Celsius': \n",
    "            print(f'{temperature - 273.15} Celsius')\n",
    "        elif target_scale_2 == 'Farenheit': \n",
    "            print(f'{((temperature - 273.15)*(1.8))+32} Farenheit')"
   ]
  },
  {
   "cell_type": "code",
   "execution_count": 50,
   "id": "8d98d941",
   "metadata": {},
   "outputs": [
    {
     "name": "stdout",
     "output_type": "stream",
     "text": [
      "98.60000000000001 Farenheit\n"
     ]
    }
   ],
   "source": [
    "convert_temperature(37, 'Celsius', 'Farenheit')"
   ]
  },
  {
   "cell_type": "code",
   "execution_count": 51,
   "id": "472276a5",
   "metadata": {},
   "outputs": [
    {
     "name": "stdout",
     "output_type": "stream",
     "text": [
      "422.0388888888889 Kelvin\n"
     ]
    }
   ],
   "source": [
    "convert_temperature(300, 'Farenheit', 'Kelvin')"
   ]
  }
 ],
 "metadata": {
  "kernelspec": {
   "display_name": "base",
   "language": "python",
   "name": "python3"
  },
  "language_info": {
   "codemirror_mode": {
    "name": "ipython",
    "version": 3
   },
   "file_extension": ".py",
   "mimetype": "text/x-python",
   "name": "python",
   "nbconvert_exporter": "python",
   "pygments_lexer": "ipython3",
   "version": "3.13.5"
  },
  "toc": {
   "base_numbering": 1,
   "nav_menu": {},
   "number_sections": true,
   "sideBar": true,
   "skip_h1_title": false,
   "title_cell": "Table of Contents",
   "title_sidebar": "Contents",
   "toc_cell": false,
   "toc_position": {},
   "toc_section_display": true,
   "toc_window_display": false
  }
 },
 "nbformat": 4,
 "nbformat_minor": 5
}
