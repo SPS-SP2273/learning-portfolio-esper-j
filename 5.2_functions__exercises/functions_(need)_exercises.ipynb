{
 "cells": [
  {
   "attachments": {},
   "cell_type": "markdown",
   "id": "123456",
   "metadata": {},
   "source": [
    "<div style=\"text-align:left;font-size:2em\"><span style=\"font-weight:bolder;font-size:1.25em\">SP2273 | Learning Portfolio</span><br><br><span style=\"font-weight:bold;color:darkred\">Functions (Need) Exercises</span></div>"
   ]
  },
  {
   "cell_type": "markdown",
   "id": "9e9bec3c",
   "metadata": {},
   "source": [
    "# Exercise 1"
   ]
  },
  {
   "cell_type": "code",
   "execution_count": 3,
   "id": "7eaacfdb",
   "metadata": {},
   "outputs": [],
   "source": [
    "def greeting(name):\n",
    "    if name == 'Batman':\n",
    "        return 'Hello Batman! So, nice to meet you!'\n",
    "    return f'Hello {name}!'"
   ]
  },
  {
   "cell_type": "code",
   "execution_count": 4,
   "id": "40499a14",
   "metadata": {},
   "outputs": [
    {
     "data": {
      "text/plain": [
       "'Hello Batman! So, nice to meet you!'"
      ]
     },
     "execution_count": 4,
     "metadata": {},
     "output_type": "execute_result"
    }
   ],
   "source": [
    "greeting('Batman')"
   ]
  },
  {
   "cell_type": "code",
   "execution_count": 2,
   "id": "6c3e6851",
   "metadata": {},
   "outputs": [
    {
     "name": "stdout",
     "output_type": "stream",
     "text": [
      "Hello superman!\n"
     ]
    }
   ],
   "source": [
    "print(greeting('superman'))"
   ]
  },
  {
   "cell_type": "code",
   "execution_count": 1,
   "id": "e731c91b",
   "metadata": {},
   "outputs": [],
   "source": [
    "def greeting(name):\n",
    "    if name == 'Batman':\n",
    "        print('Hello Batman! So, nice to meet you!')\n",
    "    print(f'Hello {name}!')"
   ]
  },
  {
   "cell_type": "code",
   "execution_count": 2,
   "id": "d519c656",
   "metadata": {},
   "outputs": [
    {
     "name": "stdout",
     "output_type": "stream",
     "text": [
      "Hello Batman! So, nice to meet you!\n",
      "Hello Batman!\n"
     ]
    }
   ],
   "source": [
    "greeting('Batman')"
   ]
  },
  {
   "cell_type": "code",
   "execution_count": 15,
   "id": "7e87a5d8",
   "metadata": {},
   "outputs": [
    {
     "name": "stdout",
     "output_type": "stream",
     "text": [
      "Hello superman!\n",
      "None\n"
     ]
    }
   ],
   "source": [
    "print(greeting('superman'))"
   ]
  },
  {
   "cell_type": "markdown",
   "id": "5ff9a457",
   "metadata": {},
   "source": [
    "(edited) The code works even though there is no else statement because if the condition does not fill name=='Batman' (i.e. putting \"superman\" instead), Python skips the if condition and moves to the next line to return 'hello {name}!'. Thus it will print \"Hello Superman!\" \n"
   ]
  },
  {
   "cell_type": "markdown",
   "id": "4c8efe8f",
   "metadata": {},
   "source": [
    "(edited part 2) \n",
    "why the first return wasn't called: the first return was inside the if loop, so seeing as how the 'if' condition wasn't fulfilled, it will skip the whole 'if' block (inclusive of the first return function) and execute the second one only. \n",
    "\n",
    "\n",
    "why print doesnt work: 'return' gives back something, so when we use 'print' instead, it will print, but it will also print 'none' because there was no return statement specified and nothing to give back. "
   ]
  },
  {
   "cell_type": "markdown",
   "id": "8db7b4b3",
   "metadata": {},
   "source": [
    "**(edited part 3) the second return acts like an 'else' statement. if the 'if' condition is fulfilled, then only the first return is printed, and the second return isnt. (in print, both print statements are printed.)** if the if statement == false, python doesnt return anything for it and will move on to the next statement"
   ]
  },
  {
   "cell_type": "code",
   "execution_count": null,
   "id": "5a9a59bf",
   "metadata": {},
   "outputs": [],
   "source": [
    "def greeting(name):\n",
    "    if name == 'Batman':\n",
    "        print('Hello Batman! So, nice to meet you!')\n",
    "    print(f'Hello {name}!')"
   ]
  },
  {
   "cell_type": "markdown",
   "id": "d51c6e8a",
   "metadata": {},
   "source": [
    "# Exercise 2"
   ]
  },
  {
   "cell_type": "code",
   "execution_count": 7,
   "id": "3276b160",
   "metadata": {},
   "outputs": [],
   "source": [
    "\n",
    "#weight in kg \n",
    "#height in m \n",
    "def calculate_bmi(weightz, heightz):\n",
    "    height = float(heightz)\n",
    "    weight = float(weightz)\n",
    "    bmi = (weight/(height**2))\n",
    "    if bmi < 18.5:\n",
    "        print(f'You are underweight' )\n",
    "    elif bmi <= 25:\n",
    "        print(f'You have normal weight')\n",
    "    elif bmi <= 30:\n",
    "        print(f'You are overweight')\n",
    "    else:\n",
    "        print(f'You are obese')\n",
    "    \n"
   ]
  },
  {
   "cell_type": "code",
   "execution_count": 8,
   "id": "c06884f5",
   "metadata": {},
   "outputs": [
    {
     "name": "stdout",
     "output_type": "stream",
     "text": [
      "You have normal weight\n"
     ]
    }
   ],
   "source": [
    "calculate_bmi(76.4,1.75)"
   ]
  },
  {
   "cell_type": "markdown",
   "id": "c842a0d0",
   "metadata": {},
   "source": [
    "# Exercise 3"
   ]
  },
  {
   "cell_type": "code",
   "execution_count": 47,
   "id": "0cb86cc8",
   "metadata": {},
   "outputs": [],
   "source": [
    "def factorial(number): \n",
    "    if number == 0: \n",
    "        return 1\n",
    "    elif number < -1:\n",
    "        return f'This is a negative number and there is no answer (sorry).'\n",
    "    else: \n",
    "        answer = 1\n",
    "        for i in range(1, number + 1):\n",
    "            answer *= i\n",
    "        return answer \n",
    "        \n",
    "    #for \n",
    "    #answer *= x\n",
    "  "
   ]
  },
  {
   "cell_type": "code",
   "execution_count": 49,
   "id": "827239ad",
   "metadata": {},
   "outputs": [
    {
     "data": {
      "text/plain": [
       "3628800"
      ]
     },
     "execution_count": 49,
     "metadata": {},
     "output_type": "execute_result"
    }
   ],
   "source": [
    "factorial(10)"
   ]
  },
  {
   "cell_type": "code",
   "execution_count": null,
   "id": "00e5d8d1",
   "metadata": {},
   "outputs": [
    {
     "data": {
      "text/plain": [
       "'This is a negative number and there is no answer (sorry).'"
      ]
     },
     "execution_count": 50,
     "metadata": {},
     "output_type": "execute_result"
    }
   ],
   "source": [
    "factorial(-3)"
   ]
  }
 ],
 "metadata": {
  "kernelspec": {
   "display_name": "base",
   "language": "python",
   "name": "python3"
  },
  "language_info": {
   "codemirror_mode": {
    "name": "ipython",
    "version": 3
   },
   "file_extension": ".py",
   "mimetype": "text/x-python",
   "name": "python",
   "nbconvert_exporter": "python",
   "pygments_lexer": "ipython3",
   "version": "3.13.5"
  },
  "toc": {
   "base_numbering": 1,
   "nav_menu": {},
   "number_sections": true,
   "sideBar": true,
   "skip_h1_title": false,
   "title_cell": "Table of Contents",
   "title_sidebar": "Contents",
   "toc_cell": false,
   "toc_position": {},
   "toc_section_display": true,
   "toc_window_display": false
  }
 },
 "nbformat": 4,
 "nbformat_minor": 5
}
