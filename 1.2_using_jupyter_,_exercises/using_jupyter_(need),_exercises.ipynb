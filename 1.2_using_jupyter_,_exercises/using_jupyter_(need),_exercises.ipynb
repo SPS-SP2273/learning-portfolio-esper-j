{
 "cells": [
  {
   "attachments": {},
   "cell_type": "markdown",
   "id": "123456",
   "metadata": {},
   "source": [
    "<div style=\"text-align:left;font-size:2em\"><span style=\"font-weight:bolder;font-size:1.25em\">SP2273 | Learning Portfolio</span><br><br><span style=\"font-weight:bold;color:darkred\">Using Jupyter (Need), Exercises</span></div>"
   ]
  },
  {
   "attachments": {},
   "cell_type": "markdown",
   "id": "123456",
   "metadata": {},
   "source": [
    "## 1 Quadratic Equations"
   ]
  },
  {
   "attachments": {},
   "cell_type": "markdown",
   "id": "123456",
   "metadata": {},
   "source": [
    "### Introduction"
   ]
  },
  {
   "cell_type": "markdown",
   "id": "123456",
   "metadata": {},
   "source": [
    "![](https://upload.wikimedia.org/wikipedia/commons/thumb/f/f8/Polynomialdeg2.svg/300px-Polynomialdeg2.svg.png)\n",
    "\n",
    "(_Image from the_ [_Wikipedia page on Quadratic equation_](https://en.wikipedia.org/wiki/Quadratic_equation))\n",
    "\n",
    "The general form of a quadratic equation is: $$ax^2 + bx + c = 0$$"
   ]
  },
  {
   "attachments": {},
   "cell_type": "markdown",
   "id": "123456",
   "metadata": {},
   "source": [
    "### Solutions"
   ]
  },
  {
   "cell_type": "markdown",
   "id": "123456",
   "metadata": {},
   "source": [
    "Provided $a \\ne 0$, we can use an elementary algebraic method called <u>[completing the square](https://en.wikipedia.org/wiki/Completing_the_square)</u> to show that a quadratic equation has the following solution\n"
   ]
  },
  {
   "cell_type": "markdown",
   "id": "97fb3058",
   "metadata": {},
   "source": [
    "$$x = \\dfrac{-b \\pm \\sqrt{b^2 -4ac}}{2a} $$"
   ]
  },
  {
   "attachments": {},
   "cell_type": "markdown",
   "id": "123456",
   "metadata": {},
   "source": [
    "### Discriminant"
   ]
  },
  {
   "cell_type": "markdown",
   "id": "9a9b5598",
   "metadata": {},
   "source": [
    "The quantity $\\Delta$ = $b^2 -4ac$ is called the **discriminant** of the equation and decides the nature of its solutions. The table below shows the various possibilites. "
   ]
  },
  {
   "cell_type": "markdown",
   "id": "16f7407e",
   "metadata": {},
   "source": [
    "| **Discriminant**   | **Roots**\n",
    "|:---   | :----\n",
    "| $\\Delta = b^2 - 4ac = 0$ | A single solution of $-b/(2a)$\n",
    "|$\\Delta = b^2 - 4ac \\gt 0$ | Two distinct solutions\n",
    "| $\\Delta = b^2 - 4ac \\lt 0$ | No real solutions; both are complex"
   ]
  },
  {
   "cell_type": "markdown",
   "id": "fde2d72e",
   "metadata": {},
   "source": [
    "## Exercise 2 "
   ]
  },
  {
   "cell_type": "markdown",
   "id": "7d388d19",
   "metadata": {},
   "source": [
    "1. A Git **repository** is a sort of folder that is on the GitHub server. It can hold information such as the Learning Portfolio.\n",
    "2. Git keeps track of in the _changes in our_ files in our repository.\n",
    "3. A COMMIT specifies the changes that we make to our files, along with a small description of the changes we made. \n",
    "4. A PUSH is when we 'push' our changes (commits) to the server to be saved and for others in the server to be able to view it.  \n",
    "5. A PULL is when we want to save information from a cloud onto our own device. \n",
    "1. difference betwwen GitHub and GitHub desktop is: GitHub desktop stores the copy of the repository locally on our own device, whereas Github itself is online and doesn't store information on the local device. "
   ]
  },
  {
   "cell_type": "markdown",
   "id": "bc78cffc",
   "metadata": {},
   "source": [
    "## Exercise  3"
   ]
  },
  {
   "cell_type": "markdown",
   "id": "d5f73e73",
   "metadata": {},
   "source": [
    "$\\mu = \\dfrac{1}{n} \\sum^{n}_{i=1} x_i$"
   ]
  },
  {
   "cell_type": "markdown",
   "id": "cbf79150",
   "metadata": {},
   "source": [
    "$\\sigma = \\sqrt{\\dfrac{1}{n}\\sum_{i = 1}^{n}(x_i - \\mu)^2}$"
   ]
  },
  {
   "cell_type": "markdown",
   "id": "dd252667",
   "metadata": {},
   "source": [
    "$r = \\dfrac{\\sum_{i = 1}^{n}(x_i - \\mu _X)(y_i - \\mu _Y)}{\\sqrt{\\sum_{i = 1}^{n}(x_i - \\mu _X)^2 \\sum_{i = 1}^{n}(y_i - \\mu _Y)^2}}$"
   ]
  }
 ],
 "metadata": {
  "kernelspec": {
   "display_name": "base",
   "language": "python",
   "name": "python3"
  },
  "language_info": {
   "codemirror_mode": {
    "name": "ipython",
    "version": 3
   },
   "file_extension": ".py",
   "mimetype": "text/x-python",
   "name": "python",
   "nbconvert_exporter": "python",
   "pygments_lexer": "ipython3",
   "version": "3.13.5"
  },
  "toc": {
   "base_numbering": 1,
   "nav_menu": {},
   "number_sections": true,
   "sideBar": true,
   "skip_h1_title": false,
   "title_cell": "Table of Contents",
   "title_sidebar": "Contents",
   "toc_cell": false,
   "toc_position": {},
   "toc_section_display": true,
   "toc_window_display": false
  }
 },
 "nbformat": 4,
 "nbformat_minor": 5
}
