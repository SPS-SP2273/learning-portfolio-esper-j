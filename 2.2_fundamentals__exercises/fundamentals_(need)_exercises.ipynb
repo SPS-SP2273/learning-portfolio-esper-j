{
 "cells": [
  {
   "attachments": {},
   "cell_type": "markdown",
   "id": "123456",
   "metadata": {},
   "source": [
    "<div style=\"text-align:left;font-size:2em\"><span style=\"font-weight:bolder;font-size:1.25em\">SP2273 | Learning Portfolio</span><br><br><span style=\"font-weight:bold;color:darkred\">Fundamentals (Need) Exercises</span></div>"
   ]
  },
  {
   "cell_type": "markdown",
   "id": "04aab850",
   "metadata": {},
   "source": [
    "## From memory\n",
    "1. print('word')\n",
    "1. name = 'apple'\n",
    "name == 'apple' \n",
    "2. name = 'something' \n",
    "if name == 'something':\n",
    "    print('hi')\n",
    "else:\n",
    "    print('bye')\n",
    "3. store_data: {\n",
    "'A': '1', \n",
    "'B': '2', \n",
    "}\n",
    " print(store_data['A'])\n",
    "4. #COMMENTS CAN BE WRTTIEN WITH A HASHTAG\n",
    "5. brackets have different functions \n",
    "1. dot indicates ownership (.) "
   ]
  },
  {
   "cell_type": "markdown",
   "id": "6c4598b2",
   "metadata": {},
   "source": [
    "## Checking the notes\n",
    "1. python interprets one command at a time \n",
    "1. python is sensitive\n",
    "1. if is used to make decisions\n",
    "1. = is not the same as == (true/false)\n",
    "1. indentations are important\n",
    "1. words can be variables without the ''\n",
    "1.  () = functions, math\n",
    "    [] = lists of data \n",
    "    {} = store in dictionary\n",
    "1. math packges can be imported\n",
    "\n"
   ]
  },
  {
   "cell_type": "code",
   "execution_count": 6,
   "id": "1226c22c",
   "metadata": {},
   "outputs": [],
   "source": [
    "import math"
   ]
  },
  {
   "cell_type": "code",
   "execution_count": 16,
   "id": "cad4f55e",
   "metadata": {},
   "outputs": [
    {
     "name": "stdout",
     "output_type": "stream",
     "text": [
      "3 4 5.0\n"
     ]
    }
   ],
   "source": [
    "x = 3\n",
    "y = 4\n",
    "z = math.sqrt(x**2 + y**2)\n",
    "print(x, y, z)"
   ]
  },
  {
   "cell_type": "markdown",
   "id": "087ae6a5",
   "metadata": {},
   "source": [
    "## Roles in Python\n",
    "|#|Term | Definition\n",
    "|:--|:---:|---| \n",
    "|1| Function| Functions are sort of commands that allow python do execute a specific task \n",
    "|2|Arguments | it is placed in the () brackets \n",
    "|3|Comments | They are words after a hashtag that wont be recognized as code by python \n",
    "|4| Indentations | they are spaces and they could affect the outcome of the code (it may not work if indentations are wrong)\n",
    "|5|Packages| Packages contain a bunch of function (that are not already available in python version you are using), such as the math package which can be imported and contains mathematical functions such as squareroot\n",
    "|6|. | The dot indicates the ownership, and we cn put it behind things in python (i.e. numbers or words) and access the function that it owns. \n",
    "|7| :| Indicates the starting point of the code \n",
    "|8| [] | Is used for lists of data, whether it is numbers or strings \n",
    "|9| [[],[]]| It is used to indicate a list inside a list \n",
    "|10| {}| Is used to store things in a dictionary, and it can be accessed later using specific commands "
   ]
  },
  {
   "cell_type": "code",
   "execution_count": 17,
   "id": "db547fac",
   "metadata": {},
   "outputs": [
    {
     "data": {
      "text/plain": [
       "2.5"
      ]
     },
     "execution_count": 17,
     "metadata": {},
     "output_type": "execute_result"
    }
   ],
   "source": [
    "5/2             #this one divides "
   ]
  },
  {
   "cell_type": "code",
   "execution_count": 18,
   "id": "60fe1571",
   "metadata": {},
   "outputs": [
    {
     "data": {
      "text/plain": [
       "2"
      ]
     },
     "execution_count": 18,
     "metadata": {},
     "output_type": "execute_result"
    }
   ],
   "source": [
    "5//2           #this one divides and gives the quotient "
   ]
  },
  {
   "cell_type": "code",
   "execution_count": 24,
   "id": "bf8e6700",
   "metadata": {},
   "outputs": [
    {
     "data": {
      "text/plain": [
       "40"
      ]
     },
     "execution_count": 24,
     "metadata": {},
     "output_type": "execute_result"
    }
   ],
   "source": [
    "81//2"
   ]
  },
  {
   "cell_type": "code",
   "execution_count": 25,
   "id": "60017633",
   "metadata": {},
   "outputs": [
    {
     "data": {
      "text/plain": [
       "9"
      ]
     },
     "execution_count": 25,
     "metadata": {},
     "output_type": "execute_result"
    }
   ],
   "source": [
    "29//3"
   ]
  },
  {
   "cell_type": "code",
   "execution_count": 21,
   "id": "23031f7f",
   "metadata": {},
   "outputs": [
    {
     "data": {
      "text/plain": [
       "1"
      ]
     },
     "execution_count": 21,
     "metadata": {},
     "output_type": "execute_result"
    }
   ],
   "source": [
    "5%2           # gives the remainder of what is being divided "
   ]
  },
  {
   "cell_type": "code",
   "execution_count": 35,
   "id": "2eb5d28a",
   "metadata": {},
   "outputs": [
    {
     "data": {
      "text/plain": [
       "2"
      ]
     },
     "execution_count": 35,
     "metadata": {},
     "output_type": "execute_result"
    }
   ],
   "source": [
    "5%3"
   ]
  }
 ],
 "metadata": {
  "kernelspec": {
   "display_name": "base",
   "language": "python",
   "name": "python3"
  },
  "language_info": {
   "codemirror_mode": {
    "name": "ipython",
    "version": 3
   },
   "file_extension": ".py",
   "mimetype": "text/x-python",
   "name": "python",
   "nbconvert_exporter": "python",
   "pygments_lexer": "ipython3",
   "version": "3.13.5"
  },
  "toc": {
   "base_numbering": 1,
   "nav_menu": {},
   "number_sections": true,
   "sideBar": true,
   "skip_h1_title": false,
   "title_cell": "Table of Contents",
   "title_sidebar": "Contents",
   "toc_cell": false,
   "toc_position": {},
   "toc_section_display": true,
   "toc_window_display": false
  }
 },
 "nbformat": 4,
 "nbformat_minor": 5
}
