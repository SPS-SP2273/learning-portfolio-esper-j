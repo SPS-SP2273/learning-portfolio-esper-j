{
 "cells": [
  {
   "attachments": {},
   "cell_type": "markdown",
   "id": "123456",
   "metadata": {},
   "source": [
    "<div style=\"text-align:left;font-size:2em\"><span style=\"font-weight:bolder;font-size:1.25em\">SP2273 | Learning Portfolio</span><br><br><span style=\"font-weight:bold;color:darkred\">Fundamentals (Good) Exercises</span></div>"
   ]
  },
  {
   "cell_type": "code",
   "execution_count": 6,
   "id": "ccac2d91",
   "metadata": {},
   "outputs": [
    {
     "name": "stdout",
     "output_type": "stream",
     "text": [
      "How you doin Jenz!\n"
     ]
    }
   ],
   "source": [
    "user_input = input ('What is your name?')\n",
    "print('How you doin', user_input+'!')"
   ]
  },
  {
   "cell_type": "code",
   "execution_count": 8,
   "id": "fedcfe03",
   "metadata": {},
   "outputs": [
    {
     "name": "stdout",
     "output_type": "stream",
     "text": [
      "My name is Jenz and I am 18 years old.\n"
     ]
    }
   ],
   "source": [
    "user_input_1 = input('what is your name?')\n",
    "user_input_2 = input('how old are ya')\n",
    "print('My name is', user_input_1, 'and I am', user_input_2, 'years old.')"
   ]
  },
  {
   "cell_type": "code",
   "execution_count": 9,
   "id": "12734b31",
   "metadata": {},
   "outputs": [],
   "source": [
    "import numpy as np"
   ]
  },
  {
   "cell_type": "code",
   "execution_count": 18,
   "id": "c4e173e6",
   "metadata": {},
   "outputs": [
    {
     "name": "stdout",
     "output_type": "stream",
     "text": [
      "The value of pi to 2 decimal places is: 3.14\n",
      "The value of pi to 3 decimal places is: 3.142\n",
      "The value of pi to 4 decimal places is: 3.1416\n"
     ]
    }
   ],
   "source": [
    "pi = 3.141592653589793\n",
    "print(f\"The value of pi to 2 decimal places is: {pi:.2f}\")\n",
    "print(f\"The value of pi to 3 decimal places is: {pi:.3f}\")\n",
    "print(f\"The value of pi to 4 decimal places is: {pi:.4f}\")"
   ]
  },
  {
   "cell_type": "code",
   "execution_count": 25,
   "id": "6890bcf3",
   "metadata": {},
   "outputs": [
    {
     "name": "stdout",
     "output_type": "stream",
     "text": [
      "Apple\t   $ 0.99\n",
      "Banana\t   $ 0.59\n",
      "Orange\t   $ 1.29\n",
      "\n",
      "********** $*****\n"
     ]
    }
   ],
   "source": [
    "print('Apple\\t   $ 0.99\\nBanana\\t   $ 0.59\\nOrange\\t   $ 1.29\\n\\n********** $*****')"
   ]
  },
  {
   "cell_type": "code",
   "execution_count": 10,
   "id": "222313e9",
   "metadata": {},
   "outputs": [
    {
     "name": "stdout",
     "output_type": "stream",
     "text": [
      "The student's letter grade is A\n"
     ]
    }
   ],
   "source": [
    "score0 = input('Enter the student\\'s score')\n",
    "score = int(score0)\n",
    "if 70<score<100:  \n",
    "    print('The student\\'s letter grade is A')\n",
    "elif 50<score<69:\n",
    "    print('The student\\'s letter grade is B')\n",
    "elif 35<score<49:\n",
    "    print('The student\\'s letter grade is C')\n",
    "elif 0<score<34:\n",
    "    print('The student has failed')\n"
   ]
  },
  {
   "cell_type": "code",
   "execution_count": null,
   "id": "9387ead8",
   "metadata": {},
   "outputs": [
    {
     "name": "stdout",
     "output_type": "stream",
     "text": [
      "120\n",
      "Invalid input\n"
     ]
    }
   ],
   "source": [
    "def factorial(n):\n",
    "    if n < 0:\n",
    "        return \"Invalid input\"\n",
    "    elif n == 0:\n",
    "        return 1\n",
    "    else:\n",
    "        result = 1                              #the result is outside the 4 loop\n",
    "        for number in range(1, n+1):            #this is a loop in which the number begins at 1, and ends at n+1 (where n is the number to be factorialed)\n",
    "            result *= number\n",
    "        return result\n",
    "\n",
    "\n",
    "print(factorial(5))   # Testing, expected output: 120\n",
    "print(factorial(-1))  # Testing, expected output: Invalid input"
   ]
  }
 ],
 "metadata": {
  "kernelspec": {
   "display_name": "base",
   "language": "python",
   "name": "python3"
  },
  "language_info": {
   "codemirror_mode": {
    "name": "ipython",
    "version": 3
   },
   "file_extension": ".py",
   "mimetype": "text/x-python",
   "name": "python",
   "nbconvert_exporter": "python",
   "pygments_lexer": "ipython3",
   "version": "3.13.5"
  },
  "toc": {
   "base_numbering": 1,
   "nav_menu": {},
   "number_sections": true,
   "sideBar": true,
   "skip_h1_title": false,
   "title_cell": "Table of Contents",
   "title_sidebar": "Contents",
   "toc_cell": false,
   "toc_position": {},
   "toc_section_display": true,
   "toc_window_display": false
  }
 },
 "nbformat": 4,
 "nbformat_minor": 5
}
