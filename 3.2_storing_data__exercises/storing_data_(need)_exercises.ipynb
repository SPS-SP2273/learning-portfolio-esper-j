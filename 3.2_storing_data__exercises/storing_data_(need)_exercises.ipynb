{
 "cells": [
  {
   "attachments": {},
   "cell_type": "markdown",
   "id": "123456",
   "metadata": {},
   "source": [
    "<div style=\"text-align:left;font-size:2em\"><span style=\"font-weight:bolder;font-size:1.25em\">SP2273 | Learning Portfolio</span><br><br><span style=\"font-weight:bold;color:darkred\">Storing Data (Need) Exercises</span></div>"
   ]
  },
  {
   "cell_type": "markdown",
   "id": "39564e40",
   "metadata": {},
   "source": [
    "# Exercise 1"
   ]
  },
  {
   "cell_type": "markdown",
   "id": "b7650a7b",
   "metadata": {},
   "source": [
    "|   | List  | Array  |\n",
    "|---|---|---|\n",
    "|Differences |multiple data types   |Arrays are only able to have 1 data type (integer, float, string)   |   \n",
    "||When you add numbers to a list, you are not doing addtion to the elements that are already inside, just adding MORE elements |You can add numbers to an array (do mathematics) *the same applies for multiplication|\n",
    "||_You are able to ask which elements are present inside the list vaguely_|_Suppose one wants to know if the list contains the number 3, then it can be asked as array == 3, and the array will tell the user one by one which elements inside is =3 using \"true\" and \"false\"_|\n",
    "|Similarities|- Both are able to contain elements(information)  | -_len.() can be used to count the number of elements inside_ |  "
   ]
  },
  {
   "cell_type": "markdown",
   "id": "f6de2f6e",
   "metadata": {},
   "source": [
    "A dictionary is similar to a list or array in which it contains information, but it does not require as many brackets or lists; i.e. there can be an element, and an attribute of that element diplayed as \n",
    "'element': 'attribute'\n",
    "The element acts as a 'key' and can be used to summon the attribute using the print() function afterwards. "
   ]
  },
  {
   "cell_type": "markdown",
   "id": "d7235d99",
   "metadata": {},
   "source": [
    "\"When you add numbers to a list, you are not doing addtion to the elements that are already inside, just adding MORE elements\" -> I meant that you can, but you need to use append. For doing math, such as adding 1 to each element, its easier to do in an array than in a list. "
   ]
  },
  {
   "cell_type": "markdown",
   "id": "475a6d48",
   "metadata": {},
   "source": [
    "# Exercise 2"
   ]
  },
  {
   "cell_type": "code",
   "execution_count": 1,
   "id": "992d4972",
   "metadata": {},
   "outputs": [],
   "source": [
    "import numpy as np"
   ]
  },
  {
   "cell_type": "code",
   "execution_count": 13,
   "id": "63196496",
   "metadata": {},
   "outputs": [
    {
     "name": "stdout",
     "output_type": "stream",
     "text": [
      "a1\n",
      "c3\n",
      "e5\n",
      "g7\n",
      "i9\n"
     ]
    }
   ],
   "source": [
    "py_list = [\"a1\", \"b2\", \"c3\", \"d4\", \"e5\", \"f6\", \"g7\", \"h8\", \"i9\", \"j10\"]\n",
    "print(py_list[0])\n",
    "print(py_list[2])\n",
    "print(py_list[4])\n",
    "print(py_list[6])\n",
    "print(py_list[8])"
   ]
  },
  {
   "cell_type": "code",
   "execution_count": 24,
   "id": "0ef0d1bb",
   "metadata": {},
   "outputs": [
    {
     "data": {
      "text/plain": [
       "np.int64(9)"
      ]
     },
     "execution_count": 24,
     "metadata": {},
     "output_type": "execute_result"
    }
   ],
   "source": [
    "numbers=[45, 60, 1, 30, 96, 1, 96, 57, 16, 1,\n",
    "        99, 62, 86, 43, 42, 60, 59, 1, 1, 35,\n",
    "        83, 47, 34, 28, 68, 23, 22, 92, 1, 79,\n",
    "        1, 29, 94, 72, 46, 47, 1, 74, 32, 20,\n",
    "        8, 37, 35, 1, 89, 29, 86, 19, 43, 61]   \n",
    "numpy_numbers = np.array(numbers)\n",
    "\n",
    "sum(numpy_numbers ==1)"
   ]
  },
  {
   "cell_type": "code",
   "execution_count": 25,
   "id": "d5a262f9",
   "metadata": {},
   "outputs": [],
   "source": [
    "x_1 = [1, 4, 9, 16, 25, 36, 49, 64, 81, 100]\n",
    "x_2 = [1, 8, 27, 64, 125, 216, 343, 512, 729, 1000]"
   ]
  },
  {
   "cell_type": "code",
   "execution_count": 30,
   "id": "9e0e6235",
   "metadata": {},
   "outputs": [
    {
     "name": "stdout",
     "output_type": "stream",
     "text": [
      "38.5 302.5\n"
     ]
    }
   ],
   "source": [
    "npx_1 = np.array(x_1)\n",
    "npx_2 = np.array(x_2)\n",
    "\n",
    "print(np.mean(npx_1), np.mean(npx_2))"
   ]
  },
  {
   "cell_type": "code",
   "execution_count": 31,
   "id": "3a52bb8d",
   "metadata": {},
   "outputs": [
    {
     "name": "stdout",
     "output_type": "stream",
     "text": [
      "32.41990129534635 326.0893282522444\n"
     ]
    }
   ],
   "source": [
    "print(np.std(npx_1), np.std(npx_2))"
   ]
  },
  {
   "cell_type": "code",
   "execution_count": 38,
   "id": "d4843046",
   "metadata": {},
   "outputs": [
    {
     "data": {
      "text/plain": [
       "np.float64(0.9871796626270701)"
      ]
     },
     "execution_count": 38,
     "metadata": {},
     "output_type": "execute_result"
    }
   ],
   "source": [
    " (10* np.sum(npx_1 * npx_2) - np.sum(npx_1) * np.sum(npx_2))/np.sqrt((10 * np.sum(npx_1**2) - (np.sum(npx_1))**2) * (10*np.sum(npx_2**2) - (np.sum(npx_2))**2))"
   ]
  },
  {
   "cell_type": "code",
   "execution_count": 35,
   "id": "423f6d22",
   "metadata": {},
   "outputs": [
    {
     "data": {
      "text/plain": [
       "np.float64(0.9871796626270701)"
      ]
     },
     "execution_count": 35,
     "metadata": {},
     "output_type": "execute_result"
    }
   ],
   "source": [
    "np.corrcoef(npx_1, npx_2)[0,1]"
   ]
  },
  {
   "cell_type": "markdown",
   "id": "558cd848",
   "metadata": {},
   "source": [
    "# Exercise 3"
   ]
  },
  {
   "cell_type": "code",
   "execution_count": 1,
   "id": "b781349a",
   "metadata": {},
   "outputs": [],
   "source": [
    "elements = ['Hydrogen',\n",
    "            'Helium', 'Lithium',\n",
    "            'Beryllium', 'Boron', 'Carbon',\n",
    "            'Nitrogen', 'Oxygen',\n",
    "            'Fluorine',\n",
    "            'Neon']"
   ]
  },
  {
   "cell_type": "code",
   "execution_count": 2,
   "id": "51c21b5c",
   "metadata": {},
   "outputs": [
    {
     "data": {
      "text/plain": [
       "'Boron'"
      ]
     },
     "execution_count": 2,
     "metadata": {},
     "output_type": "execute_result"
    }
   ],
   "source": [
    "elements[4]"
   ]
  },
  {
   "cell_type": "code",
   "execution_count": 3,
   "id": "ced22cc2",
   "metadata": {},
   "outputs": [
    {
     "data": {
      "text/plain": [
       "'Nitrogen'"
      ]
     },
     "execution_count": 3,
     "metadata": {},
     "output_type": "execute_result"
    }
   ],
   "source": [
    "elements[-4]"
   ]
  },
  {
   "cell_type": "markdown",
   "id": "e5831d24",
   "metadata": {},
   "source": [
    "# Exercise 4"
   ]
  },
  {
   "cell_type": "code",
   "execution_count": 6,
   "id": "1b985412",
   "metadata": {},
   "outputs": [],
   "source": [
    "import numpy as np"
   ]
  },
  {
   "cell_type": "code",
   "execution_count": 7,
   "id": "6e69714a",
   "metadata": {},
   "outputs": [],
   "source": [
    "numbers=[45, 60, 1, 30, 96, 1, 96, 57, 16, 1,\n",
    "        99, 62, 86, 43, 42, 60, 59, 1, 1, 35,\n",
    "        83, 47, 34, 28, 68, 23, 22, 92, 1, 79,\n",
    "        1, 29, 94, 72, 46, 47, 1, 74, 32, 20,\n",
    "        8, 37, 35, 1, 89, 29, 86, 19, 43, 61]                  "
   ]
  },
  {
   "cell_type": "code",
   "execution_count": 8,
   "id": "a5787e57",
   "metadata": {},
   "outputs": [],
   "source": [
    "np_numbers = np.array(numbers)"
   ]
  },
  {
   "cell_type": "code",
   "execution_count": 12,
   "id": "aea998bc",
   "metadata": {},
   "outputs": [
    {
     "data": {
      "text/plain": [
       "np.int64(9)"
      ]
     },
     "execution_count": 12,
     "metadata": {},
     "output_type": "execute_result"
    }
   ],
   "source": [
    "only_one = np_numbers ==1\n",
    "sum(only_one)"
   ]
  },
  {
   "cell_type": "markdown",
   "id": "e91eb46a",
   "metadata": {},
   "source": [
    "There are 9 '1's. "
   ]
  },
  {
   "cell_type": "markdown",
   "id": "cd59c9c8",
   "metadata": {},
   "source": [
    "# Exercise 5"
   ]
  },
  {
   "cell_type": "code",
   "execution_count": 13,
   "id": "7885200d",
   "metadata": {},
   "outputs": [],
   "source": [
    "x_1 = np.array([1, 4, 9, 16, 25, 36, 49, 64, 81, 100])\n",
    "x_2 = np.array([1, 8, 27, 64, 125, 216, 343, 512, 729, 1000])"
   ]
  },
  {
   "cell_type": "markdown",
   "id": "5d92e5fb",
   "metadata": {},
   "source": [
    "### Means"
   ]
  },
  {
   "cell_type": "code",
   "execution_count": 14,
   "id": "8a90081c",
   "metadata": {},
   "outputs": [
    {
     "data": {
      "text/plain": [
       "np.float64(38.5)"
      ]
     },
     "execution_count": 14,
     "metadata": {},
     "output_type": "execute_result"
    }
   ],
   "source": [
    "np.mean(x_1)"
   ]
  },
  {
   "cell_type": "code",
   "execution_count": 15,
   "id": "0f9a877c",
   "metadata": {},
   "outputs": [
    {
     "data": {
      "text/plain": [
       "np.float64(302.5)"
      ]
     },
     "execution_count": 15,
     "metadata": {},
     "output_type": "execute_result"
    }
   ],
   "source": [
    "np.mean(x_2)"
   ]
  },
  {
   "cell_type": "markdown",
   "id": "45abef69",
   "metadata": {},
   "source": [
    "### Standard Deviations"
   ]
  },
  {
   "cell_type": "code",
   "execution_count": 16,
   "id": "15d82299",
   "metadata": {},
   "outputs": [
    {
     "data": {
      "text/plain": [
       "np.float64(32.41990129534635)"
      ]
     },
     "execution_count": 16,
     "metadata": {},
     "output_type": "execute_result"
    }
   ],
   "source": [
    "np.std(x_1)"
   ]
  },
  {
   "cell_type": "code",
   "execution_count": 17,
   "id": "42bd6974",
   "metadata": {},
   "outputs": [
    {
     "data": {
      "text/plain": [
       "np.float64(326.0893282522444)"
      ]
     },
     "execution_count": 17,
     "metadata": {},
     "output_type": "execute_result"
    }
   ],
   "source": [
    "np.std(x_2)"
   ]
  },
  {
   "cell_type": "markdown",
   "id": "5d415018",
   "metadata": {},
   "source": [
    "### Pearson Coeff"
   ]
  },
  {
   "cell_type": "code",
   "execution_count": 24,
   "id": "2b2ff4d3",
   "metadata": {},
   "outputs": [],
   "source": [
    "numerator = len(x_1) * (np.sum(x_1*x_2)) - (np.sum(x_1)*np.sum(x_2))\n",
    "denominator = np.sqrt(((len(x_1))*(np.sum(x_1**2))-(np.sum(x_1))**2) * (len(x_1) * np.sum(x_2**2) - (np.sum(x_2)**2)))\n",
    "r = numerator/denominator"
   ]
  },
  {
   "cell_type": "code",
   "execution_count": 25,
   "id": "f55bb8b7",
   "metadata": {},
   "outputs": [
    {
     "data": {
      "text/plain": [
       "np.float64(0.9871796626270701)"
      ]
     },
     "execution_count": 25,
     "metadata": {},
     "output_type": "execute_result"
    }
   ],
   "source": [
    "r"
   ]
  },
  {
   "cell_type": "code",
   "execution_count": 23,
   "id": "6a0ab6b4",
   "metadata": {},
   "outputs": [
    {
     "data": {
      "text/plain": [
       "array([[1.        , 0.98717966],\n",
       "       [0.98717966, 1.        ]])"
      ]
     },
     "execution_count": 23,
     "metadata": {},
     "output_type": "execute_result"
    }
   ],
   "source": [
    "np.corrcoef(x_1, x_2)"
   ]
  }
 ],
 "metadata": {
  "kernelspec": {
   "display_name": "base",
   "language": "python",
   "name": "python3"
  },
  "language_info": {
   "codemirror_mode": {
    "name": "ipython",
    "version": 3
   },
   "file_extension": ".py",
   "mimetype": "text/x-python",
   "name": "python",
   "nbconvert_exporter": "python",
   "pygments_lexer": "ipython3",
   "version": "3.13.5"
  },
  "toc": {
   "base_numbering": 1,
   "nav_menu": {},
   "number_sections": true,
   "sideBar": true,
   "skip_h1_title": false,
   "title_cell": "Table of Contents",
   "title_sidebar": "Contents",
   "toc_cell": false,
   "toc_position": {},
   "toc_section_display": true,
   "toc_window_display": false
  }
 },
 "nbformat": 4,
 "nbformat_minor": 5
}
