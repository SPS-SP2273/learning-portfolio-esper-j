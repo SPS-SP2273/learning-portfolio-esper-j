{
 "cells": [
  {
   "attachments": {},
   "cell_type": "markdown",
   "id": "123456",
   "metadata": {},
   "source": [
    "<div style=\"text-align:left;font-size:2em\"><span style=\"font-weight:bolder;font-size:1.25em\">SP2273 | Learning Portfolio</span><br><br><span style=\"font-weight:bold;color:darkred\">Storing Data (Good) Exercises</span></div>"
   ]
  },
  {
   "cell_type": "markdown",
   "id": "26ea9925",
   "metadata": {},
   "source": [
    "# Exercise 1"
   ]
  },
  {
   "cell_type": "markdown",
   "id": "81ee6966",
   "metadata": {},
   "source": [
    "1. Subsetting: to select _select a subset of data in a list_\n",
    "1. indexing: to select an element (from a list or array)\n",
    "1. slicing: to select a range of elements \n",
    "1. masking: to mask/hide the elements that don't meet a given criteria"
   ]
  },
  {
   "cell_type": "markdown",
   "id": "afba75a2",
   "metadata": {},
   "source": [
    "# Exercise 2"
   ]
  },
  {
   "cell_type": "code",
   "execution_count": 1,
   "id": "bcc9ce8d",
   "metadata": {},
   "outputs": [],
   "source": [
    "import numpy as np"
   ]
  },
  {
   "cell_type": "code",
   "execution_count": null,
   "id": "3607cffc",
   "metadata": {},
   "outputs": [],
   "source": [
    "np_array_2d = np.array([[1, \"A\"], [3, \"C\"], [2, \"B\"], [4, \"D\"],\n",
    "                        [5, \"E\"], [7, \"G\"], [6, \"F\"], [8, \"H\"],\n",
    "                        [10, \"J\"], [9, \"I\"]])\n",
    "\n",
    "nps_array = np_array_2d[0:, 0].astype(int)\n",
    "#np_array_2d[0:, 0]= selecting all the \n",
    "#first elements in each smaller list (i.e. only the numbers)\n",
    "# and turning them into integers "
   ]
  },
  {
   "cell_type": "code",
   "execution_count": null,
   "id": "70d058f3",
   "metadata": {},
   "outputs": [
    {
     "name": "stdout",
     "output_type": "stream",
     "text": [
      "['A' 'C' 'E' 'G' 'I']\n"
     ]
    }
   ],
   "source": [
    "mask = ~nps_array%2 ==0\n",
    "odd_alphabets=np_array_2d[mask,1] #selecting the second element \n",
    "                                  #in the list after masking\n",
    "print(odd_alphabets)\n"
   ]
  },
  {
   "cell_type": "markdown",
   "id": "c81647b0",
   "metadata": {},
   "source": [
    "# Exercise 3"
   ]
  },
  {
   "cell_type": "code",
   "execution_count": 36,
   "id": "26732f9f",
   "metadata": {},
   "outputs": [],
   "source": [
    "silly_array = np.array([[66, 50, 57, -1, -1],\n",
    " [92, -1, 88, -1, -1],\n",
    " [75, -1, -1, 76, -1],\n",
    " [-1, 51, 87, -1, -1],\n",
    " [71, -1, 67, -1, 69]])"
   ]
  },
  {
   "cell_type": "code",
   "execution_count": 42,
   "id": "a3382de9",
   "metadata": {},
   "outputs": [],
   "source": [
    "first_mask = silly_array > 50\n",
    "#change the 'true' of the mask into a number by equating it to the number\n",
    "silly_array[first_mask] = 1"
   ]
  },
  {
   "cell_type": "code",
   "execution_count": 40,
   "id": "feac3a6b",
   "metadata": {},
   "outputs": [],
   "source": [
    "second_mask = silly_array ==50\n",
    "silly_array[second_mask] = 0 "
   ]
  },
  {
   "cell_type": "code",
   "execution_count": 41,
   "id": "749b182b",
   "metadata": {},
   "outputs": [
    {
     "data": {
      "text/plain": [
       "array([[ 1,  0,  1, -1, -1],\n",
       "       [ 1, -1,  1, -1, -1],\n",
       "       [ 1, -1, -1,  1, -1],\n",
       "       [-1,  1,  1, -1, -1],\n",
       "       [ 1, -1,  1, -1,  1]])"
      ]
     },
     "execution_count": 41,
     "metadata": {},
     "output_type": "execute_result"
    }
   ],
   "source": [
    "silly_array"
   ]
  }
 ],
 "metadata": {
  "kernelspec": {
   "display_name": "base",
   "language": "python",
   "name": "python3"
  },
  "language_info": {
   "codemirror_mode": {
    "name": "ipython",
    "version": 3
   },
   "file_extension": ".py",
   "mimetype": "text/x-python",
   "name": "python",
   "nbconvert_exporter": "python",
   "pygments_lexer": "ipython3",
   "version": "3.13.5"
  },
  "toc": {
   "base_numbering": 1,
   "nav_menu": {},
   "number_sections": true,
   "sideBar": true,
   "skip_h1_title": false,
   "title_cell": "Table of Contents",
   "title_sidebar": "Contents",
   "toc_cell": false,
   "toc_position": {},
   "toc_section_display": true,
   "toc_window_display": false
  }
 },
 "nbformat": 4,
 "nbformat_minor": 5
}
